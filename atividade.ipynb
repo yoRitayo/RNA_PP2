{
 "cells": [
  {
   "cell_type": "markdown",
   "id": "780d52767e1b5731",
   "metadata": {},
   "source": [
    "# Aprendizado Supervisionado no Neurônio Perceptron"
   ]
  },
  {
   "cell_type": "code",
   "execution_count": null,
   "id": "515c8d257f9516cd",
   "metadata": {},
   "outputs": [],
   "source": [
    "# Importando as ferramentas\n",
    "\n",
    "import numpy as np\n",
    "import matplotlib.pyplot as plt\n",
    "import random as rd\n",
    "from sklearn import metrics\n",
    "import math"
   ]
  },
  {
   "cell_type": "markdown",
   "id": "9cb8cd55af589bc7",
   "metadata": {},
   "source": [
    "##  Parte I– Resolvendo um Problema Linearmente Separável\n"
   ]
  },
  {
   "cell_type": "markdown",
   "id": "119461b89ff16cb1",
   "metadata": {},
   "source": [
    "1. Usar o arquivo dataAll.txt\n",
    "2. Construir o algoritmo de treinamento do neurônio perceptron."
   ]
  },
  {
   "cell_type": "code",
   "execution_count": null,
   "id": "76b116ecb75921ea",
   "metadata": {
    "ExecuteTime": {
     "end_time": "2025-04-06T04:43:35.156943Z",
     "start_time": "2025-04-06T04:43:35.002311Z"
    }
   },
   "outputs": [],
   "source": [
    "arq_input = \"dataAll.txt\"\n",
    "\n",
    "dataAll = np.fromfile(arq_input, dtype=np.float64)\n",
    "print(\"Tipo de dataAll: {}\".format(type(dataAll)))\n",
    "print(\"Número de elementos em dataAll: {}\".format(dataAll.size))\n",
    "print(\"\\n\")\n",
    "\n",
    "\n",
    "# -1 infers the size of the new dimension from the size of the input array.\n",
    "dataAll = np.reshape(dataAll, (-1, 3))\n",
    "print(dataAll[:10]) # Mostrando 10 exemplos\n",
    "\n",
    "print(\"\\n\")\n",
    "print(\"Shape de dataAll: {}\".format(dataAll.shape))\n",
    "print(\"Dimensões de dataAll: {}\".format(dataAll.ndim))"
   ]
  },
  {
   "cell_type": "markdown",
   "id": "829f7f70",
   "metadata": {},
   "source": [
    "Como havia 3000 exemplos anteriormente e agora a matriz tem dimensões (1, 3). \n",
    "Então, há 3000/3 = 1000 exemplos em dataAll. Ou seja, (1000, 1, 3)."
   ]
  },
  {
   "cell_type": "code",
   "execution_count": null,
   "id": "3ad49809",
   "metadata": {},
   "outputs": [],
   "source": [
    "# Separando em x, y e rotulo \n",
    "\n",
    "print(\"x:\")\n",
    "x = dataAll[:,:2]\n",
    "print(x[:10]) # Mostrando os 10 primeiros pontos \n",
    "print(x[-1])\n",
    "print(\"\\n\")\n",
    "\n",
    "print(\"y:\")\n",
    "y = dataAll[:,2:].astype(int)\n",
    "print(y[:10]) # Rótulos dos pontos"
   ]
  },
  {
   "cell_type": "markdown",
   "id": "99285989",
   "metadata": {},
   "source": [
    "Criando o neurônio Perceptron:"
   ]
  },
  {
   "cell_type": "code",
   "execution_count": 65,
   "id": "6f3d8e51",
   "metadata": {
    "scrolled": true
   },
   "outputs": [
    {
     "name": "stdout",
     "output_type": "stream",
     "text": [
      "Início: [[ 0.0488135   0.21518937]\n",
      " [ 0.10276338  0.04488318]\n",
      " [-0.0763452   0.14589411]\n",
      " ...\n",
      " [-0.08556113  0.29128155]\n",
      " [ 0.22119811 -0.01989219]\n",
      " [ 0.14386404  0.00177313]]\n",
      "Final: [[ 16137.7740335  -16151.37531063]\n",
      " [ 16137.82798338 -16151.54561682]\n",
      " [ 16137.6488748  -16151.44460589]\n",
      " ...\n",
      " [ 16137.63965887 -16151.29921845]\n",
      " [ 16137.94641811 -16151.61039219]\n",
      " [ 16137.86908404 -16151.58872687]]\n"
     ]
    }
   ],
   "source": [
    "class Perceptron:\n",
    "    \"\"\"\n",
    "    A perceptron is a classification model that consists of a set of weights, or scores,\n",
    "    one for every feature, and a threshold. The perceptron multiplies each weight by its\n",
    "    corresponding score, and adds them, obtaining a score.\n",
    "    by Rajwrite Nath on Medium\n",
    "    \n",
    "    \"\"\"\n",
    "\n",
    "    def __init__(self, threshold, lr):\n",
    "        self.threshold = threshold\n",
    "        self.lr = lr\n",
    "        self.weights = None\n",
    "        self.scores = None\n",
    "        self.adjustments = 0\n",
    "        self.epochs = 0\n",
    "\n",
    "    def gen_weights(self, low, high, size):\n",
    "        self.weights = np.random.uniform(low, high, size).reshape(1000, 2)\n",
    "\n",
    "    def step_fn(self, z):\n",
    "        return np.where(z >= self.threshold, 1, 0)\n",
    "\n",
    "    def error_fn(self, y_true, y_predicted):\n",
    "        return np.sum(y_true - y_predicted)\n",
    "\n",
    "    def predict(self, x_data):\n",
    "        return self.step_fn(np.sum(x_data*self.weights, axis=1).reshape(x_data.shape[0], -1))\n",
    "\n",
    "    def fit(self, x_data, y_data):\n",
    "        self.gen_weights(-0.5, 0.5, size=x_data.size)\n",
    "        print(\"Início: {}\".format(self.weights))\n",
    "        \n",
    "        y_predicted = self.predict(x_data)\n",
    "        self.scores = y_predicted  # Atualiza os scores\n",
    "        \n",
    "        # Algoritmo executa até a convergência, supomos que as classes sejam linearmente separáveis\n",
    "        while not np.all(y_data == self.scores):\n",
    "            \n",
    "            self.epochs += 1  # Não convergiu, vai necessitar de mais 1 época\n",
    "            \n",
    "            # Para os pesos que resultaram em uma predição errada:\n",
    "            \n",
    "            predicoes_incorretas = (y_data != self.scores)\n",
    "            \n",
    "            for i in np.where(predicoes_incorretas)[0]:\n",
    "                x_i = x_data[i]\n",
    "                y_i = y_data[i]\n",
    "                y_pred = y_predicted[i]\n",
    "\n",
    "                # Calculando erros\n",
    "                error = self.error_fn(y_i, y_pred)\n",
    "\n",
    "                # Relculando pesos\n",
    "                self.weights += self.lr * error * x_i\n",
    "                self.adjustments += 1\n",
    "                \n",
    "            y_predicted = self.predict(x_data) \n",
    "            self.scores = y_predicted # Atualiza os scores novamente com base nos ajustes\n",
    "\n",
    "# Inicializando a semente\n",
    "np.random.seed(0)\n",
    "\n",
    "# Inicializando o neurônio\n",
    "neuronio_perceptron = Perceptron(threshold=0, lr=0.1)\n",
    "neuronio_perceptron.fit(x, y)\n",
    "print(\"Final: {}\".format(neuronio_perceptron.weights))"
   ]
  },
  {
   "cell_type": "code",
   "execution_count": null,
   "id": "abdfc765",
   "metadata": {},
   "outputs": [],
   "source": [
    "# Gerando o gráfico\n",
    "    \n",
    "def gen_grafico(x, y, data_x, title, final_w):\n",
    "    \n",
    "    peso_x1 = final_w[-1, 0]\n",
    "    peso_x2 = final_w[-1, 1]\n",
    "    \n",
    "    \n",
    "    fig, ax = plt.subplots()\n",
    "\n",
    "    cor = {0: 'red', 1:'blue'}\n",
    "    for i in range(x.shape[0]):\n",
    "        plt.plot(x[i][0], x[i][1], marker='o', linestyle='', markersize=1, c = cor[y[i][0]])\n",
    "    \n",
    "    reta = (final_w[:][0] / final_w[:][0]) - (final_w[:][1] / final_w[:][2]) * data[:][1]\n",
    "    plt.plot(reta, color='purple', linestyle='--')\n",
    "    \n",
    "    ax.legend(cor, loc='center left', bbox_to_anchor=(1, 0.5))\n",
    "    ax.grid(True)\n",
    "    ax.set_title(title)\n",
    "    plt.show()\n",
    "             \n",
    "gen_grafico(x, y, \"Distribução dos exemplos em dataAll\", neuronio_perceptron.weights)             "
   ]
  }
 ],
 "metadata": {
  "kernelspec": {
   "display_name": "Python 3 (ipykernel)",
   "language": "python",
   "name": "python3"
  },
  "language_info": {
   "codemirror_mode": {
    "name": "ipython",
    "version": 3
   },
   "file_extension": ".py",
   "mimetype": "text/x-python",
   "name": "python",
   "nbconvert_exporter": "python",
   "pygments_lexer": "ipython3",
   "version": "3.12.9"
  }
 },
 "nbformat": 4,
 "nbformat_minor": 5
}
